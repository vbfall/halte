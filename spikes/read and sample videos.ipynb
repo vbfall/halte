{
 "cells": [
  {
   "cell_type": "markdown",
   "metadata": {},
   "source": [
    "## Setup"
   ]
  },
  {
   "cell_type": "code",
   "execution_count": 24,
   "metadata": {},
   "outputs": [],
   "source": [
    "import cv2\n",
    "import numpy as np\n",
    "import os\n",
    "import pandas as pd\n",
    "from PIL import Image\n",
    "from tqdm import tqdm"
   ]
  },
  {
   "cell_type": "code",
   "execution_count": 2,
   "metadata": {},
   "outputs": [],
   "source": [
    "## Data paths\n",
    "images_path = os.path.join('..','data','raw','images')"
   ]
  },
  {
   "cell_type": "code",
   "execution_count": 3,
   "metadata": {},
   "outputs": [],
   "source": [
    "## configs\n",
    "labels_to_index = {'not_fencing':0, 'epee':1, 'foil': 2, 'sabre':3}\n",
    "index_to_labels = {v:k for k, v in labels_to_index.items()}\n",
    "\n",
    "IMAGE_SIZE = (128, 128, 3)"
   ]
  },
  {
   "cell_type": "code",
   "execution_count": null,
   "metadata": {},
   "outputs": [],
   "source": []
  },
  {
   "cell_type": "code",
   "execution_count": null,
   "metadata": {},
   "outputs": [],
   "source": []
  },
  {
   "cell_type": "markdown",
   "metadata": {},
   "source": [
    "## Functions"
   ]
  },
  {
   "cell_type": "code",
   "execution_count": 26,
   "metadata": {},
   "outputs": [],
   "source": [
    "def read_image_into_array(image_path, size=(64,64,3), norm=255):\n",
    "    # Opens an image file from image_path, adjusts its size and returns a numpy array, normalized\n",
    "    image = Image.open(image_path)\n",
    "    # TODO: adjust size\n",
    "    image = np.array(image, dtype=np.float32)\n",
    "    image = image / norm\n",
    "    return image"
   ]
  },
  {
   "cell_type": "code",
   "execution_count": null,
   "metadata": {},
   "outputs": [],
   "source": [
    "def displayVideo(clip_path, frame_rate=40):\n",
    "    # Receives the path to a clip and displays it\n",
    "    # repeatedly at frame_rate frames per second\n",
    "    \n",
    "    ret = True\n",
    "    clip = cv2.VideoCapture(clip_path)\n",
    "    while(ret):\n",
    "        # Capture frame-by-frame\n",
    "        ret, frame = clip.read()\n",
    "        \n",
    "        if ret:\n",
    "            # Display the resulting frame\n",
    "            cv2.imshow('Frame', frame)\n",
    "\n",
    "            # Press q on keyboard to  exit\n",
    "            if cv2.waitKey(int(1000 / frame_rate)) & 0xFF == ord('q'):\n",
    "                break\n",
    "\n",
    "        else:\n",
    "            clip = cv2.VideoCapture(clip_path)\n",
    "            ret = True\n",
    "\n",
    "    clip.release()\n",
    "    cv2.destroyAllWindows()"
   ]
  },
  {
   "cell_type": "code",
   "execution_count": null,
   "metadata": {},
   "outputs": [],
   "source": [
    "def takeFrames(clip, num_frames=10):\n",
    "    # Receives a cv2 VideoCapture object and extracts num_frames frames from it\n",
    "    # regularly spaced and returns them in a list\n",
    "    \n",
    "    frame_list = []\n",
    "    \n",
    "    clip_size = int(clip.get(cv2.CAP_PROP_FRAME_COUNT))\n",
    "    sample_rate = int(clip_size / (num_frames+2))\n",
    "    \n",
    "    count = 0\n",
    "    ret = True\n",
    "    \n",
    "    while(ret):\n",
    "        print('reading frame:',count)\n",
    "        ret, frame = clip.read()\n",
    "        \n",
    "        if ret:\n",
    "            if (count>0) and (count%sample_rate==0):\n",
    "                frame_list.append(frame)\n",
    "                print('saved! list size now is ',len(frame_list))\n",
    "        if len(frame_list) >= num_frames:\n",
    "            break\n",
    "        else:\n",
    "            count += 1\n",
    "    \n",
    "    return frame_list"
   ]
  },
  {
   "cell_type": "markdown",
   "metadata": {},
   "source": [
    "## Read data"
   ]
  },
  {
   "cell_type": "code",
   "execution_count": 25,
   "metadata": {},
   "outputs": [],
   "source": [
    "full_dataset = pd.DataFrame()\n",
    "\n",
    "for local_path in os.listdir(images_path):\n",
    "    full_path = os.path.join(images_path, local_path)\n",
    "    if os.path.isdir(full_path):\n",
    "        list_of_file_paths = [os.path.join(full_path, f) for f in os.listdir(full_path)]\n",
    "        local_df = pd.DataFrame()\n",
    "        local_df['file_path'] = list_of_file_paths\n",
    "        local_df['label'] = labels_to_index[local_path]\n",
    "        full_dataset = full_dataset.append(local_df)"
   ]
  },
  {
   "cell_type": "code",
   "execution_count": 27,
   "metadata": {},
   "outputs": [
    {
     "name": "stderr",
     "output_type": "stream",
     "text": [
      "opening images: 100%|████████████████████████████████████████████████████████████████| 244/244 [00:09<00:00, 24.95it/s]\n"
     ]
    }
   ],
   "source": [
    "tqdm.pandas(desc='opening images')\n",
    "full_dataset['image'] = full_dataset['file_path'].progress_apply(lambda x: read_image_into_array(x, size=IMAGE_SIZE))"
   ]
  },
  {
   "cell_type": "code",
   "execution_count": 28,
   "metadata": {},
   "outputs": [
    {
     "data": {
      "text/html": [
       "<div>\n",
       "<style scoped>\n",
       "    .dataframe tbody tr th:only-of-type {\n",
       "        vertical-align: middle;\n",
       "    }\n",
       "\n",
       "    .dataframe tbody tr th {\n",
       "        vertical-align: top;\n",
       "    }\n",
       "\n",
       "    .dataframe thead th {\n",
       "        text-align: right;\n",
       "    }\n",
       "</style>\n",
       "<table border=\"1\" class=\"dataframe\">\n",
       "  <thead>\n",
       "    <tr style=\"text-align: right;\">\n",
       "      <th></th>\n",
       "      <th>file_path</th>\n",
       "      <th>label</th>\n",
       "      <th>image</th>\n",
       "    </tr>\n",
       "  </thead>\n",
       "  <tbody>\n",
       "    <tr>\n",
       "      <th>0</th>\n",
       "      <td>..\\data\\raw\\images\\epee\\000000000000.jpg</td>\n",
       "      <td>1</td>\n",
       "      <td>[[[0.5372549, 0.5019608, 0.33333334], [0.52549...</td>\n",
       "    </tr>\n",
       "    <tr>\n",
       "      <th>1</th>\n",
       "      <td>..\\data\\raw\\images\\epee\\000000000001.jpg</td>\n",
       "      <td>1</td>\n",
       "      <td>[[[0.0, 0.003921569, 0.011764706], [0.0, 0.003...</td>\n",
       "    </tr>\n",
       "    <tr>\n",
       "      <th>2</th>\n",
       "      <td>..\\data\\raw\\images\\epee\\000000000002.jpg</td>\n",
       "      <td>1</td>\n",
       "      <td>[[[0.003921569, 0.003921569, 0.003921569], [0....</td>\n",
       "    </tr>\n",
       "    <tr>\n",
       "      <th>3</th>\n",
       "      <td>..\\data\\raw\\images\\epee\\000000000003.jpg</td>\n",
       "      <td>1</td>\n",
       "      <td>[[[0.0, 0.19607843, 0.39215687], [0.003921569,...</td>\n",
       "    </tr>\n",
       "    <tr>\n",
       "      <th>4</th>\n",
       "      <td>..\\data\\raw\\images\\epee\\000000000004.jpg</td>\n",
       "      <td>1</td>\n",
       "      <td>[[[0.019607844, 0.019607844, 0.019607844], [0....</td>\n",
       "    </tr>\n",
       "  </tbody>\n",
       "</table>\n",
       "</div>"
      ],
      "text/plain": [
       "                                  file_path  label  \\\n",
       "0  ..\\data\\raw\\images\\epee\\000000000000.jpg      1   \n",
       "1  ..\\data\\raw\\images\\epee\\000000000001.jpg      1   \n",
       "2  ..\\data\\raw\\images\\epee\\000000000002.jpg      1   \n",
       "3  ..\\data\\raw\\images\\epee\\000000000003.jpg      1   \n",
       "4  ..\\data\\raw\\images\\epee\\000000000004.jpg      1   \n",
       "\n",
       "                                               image  \n",
       "0  [[[0.5372549, 0.5019608, 0.33333334], [0.52549...  \n",
       "1  [[[0.0, 0.003921569, 0.011764706], [0.0, 0.003...  \n",
       "2  [[[0.003921569, 0.003921569, 0.003921569], [0....  \n",
       "3  [[[0.0, 0.19607843, 0.39215687], [0.003921569,...  \n",
       "4  [[[0.019607844, 0.019607844, 0.019607844], [0....  "
      ]
     },
     "execution_count": 28,
     "metadata": {},
     "output_type": "execute_result"
    }
   ],
   "source": [
    "full_dataset.head()"
   ]
  },
  {
   "cell_type": "code",
   "execution_count": null,
   "metadata": {},
   "outputs": [],
   "source": []
  }
 ],
 "metadata": {
  "kernelspec": {
   "display_name": "Python 3",
   "language": "python",
   "name": "python3"
  },
  "language_info": {
   "codemirror_mode": {
    "name": "ipython",
    "version": 3
   },
   "file_extension": ".py",
   "mimetype": "text/x-python",
   "name": "python",
   "nbconvert_exporter": "python",
   "pygments_lexer": "ipython3",
   "version": "3.7.4"
  }
 },
 "nbformat": 4,
 "nbformat_minor": 2
}
