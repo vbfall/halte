{
 "cells": [
  {
   "cell_type": "code",
   "execution_count": null,
   "metadata": {},
   "outputs": [],
   "source": [
    "import tensorflow as tf\n",
    "# from pycocotools.coco import COCO\n",
    "import json\n",
    "import pandas as pd\n",
    "import PIL\n",
    "import numpy"
   ]
  },
  {
   "cell_type": "code",
   "execution_count": null,
   "metadata": {},
   "outputs": [],
   "source": [
    "val_annotation_path = '../../halte-data/coco/annotations/instances_val2017.json'\n",
    "val_images_path = '../../halte-data/coco/val2017/'"
   ]
  },
  {
   "cell_type": "code",
   "execution_count": null,
   "metadata": {},
   "outputs": [],
   "source": [
    "# coco=COCO(val_annotation_path)"
   ]
  },
  {
   "cell_type": "code",
   "execution_count": null,
   "metadata": {},
   "outputs": [],
   "source": [
    "with open(val_annotation_path, 'r') as f:\n",
    "    val_annotations = json.load(f)"
   ]
  },
  {
   "cell_type": "code",
   "execution_count": null,
   "metadata": {},
   "outputs": [],
   "source": [
    "images_df = pd.DataFrame.from_dict(val_annotations['images'])\n",
    "categories_df = pd.DataFrame.from_dict(val_annotations['categories'])\n",
    "annotations_df = pd.DataFrame.from_dict(val_annotations['annotations'])"
   ]
  },
  {
   "cell_type": "code",
   "execution_count": null,
   "metadata": {},
   "outputs": [],
   "source": [
    "person_annotations_df = annotations_df[annotations_df['category_id']==1]\n",
    "person_annotations_df = person_annotations_df[person_annotations_df['iscrowd']==0]\n",
    "person_annotations_df.reset_index(inplace=True, drop=True)\n",
    "person_annotations_df.head()"
   ]
  },
  {
   "cell_type": "code",
   "execution_count": null,
   "metadata": {},
   "outputs": [],
   "source": [
    "person_annotations_df['image_id'].value_counts()"
   ]
  },
  {
   "cell_type": "code",
   "execution_count": null,
   "metadata": {
    "scrolled": true
   },
   "outputs": [],
   "source": [
    "SEGMENTATION_PADDING = person_annotations_df['image_id'].value_counts().max()"
   ]
  },
  {
   "cell_type": "code",
   "execution_count": null,
   "metadata": {},
   "outputs": [],
   "source": [
    "# images_df['image_path'] = images_df['id'].apply(lambda x : val_images_path + str(x).zfill(12) + '.jpg')\n",
    "images_df['image_path'] = images_df['file_name'].apply(lambda x : val_images_path + x)\n",
    "images_df.head()"
   ]
  },
  {
   "cell_type": "code",
   "execution_count": null,
   "metadata": {},
   "outputs": [],
   "source": [
    "PIL.Image.open(images_df['image_path'][numpy.random.randint(0,len(images_df))])"
   ]
  },
  {
   "cell_type": "code",
   "execution_count": null,
   "metadata": {},
   "outputs": [],
   "source": [
    "def load_image(image_path):\n",
    "    img = tf.io.read_file(image_path)\n",
    "    img = tf.image.decode_jpeg(img, channels=3)\n",
    "    img = tf.image.resize(img, (255, 255))\n",
    "#     img = tf.keras.applications.inception_v3.preprocess_input(img)\n",
    "    return img#, image_path"
   ]
  },
  {
   "cell_type": "code",
   "execution_count": null,
   "metadata": {},
   "outputs": [],
   "source": [
    "person_annotations_df.head()"
   ]
  },
  {
   "cell_type": "code",
   "execution_count": null,
   "metadata": {},
   "outputs": [],
   "source": [
    "def return_image_and_labels(img_index):\n",
    "    row = images_df.loc[img_index]\n",
    "    bboxes = person_annotations_df['bbox'][person_annotations_df['image_id']==row['id']].to_numpy()\n",
    "#     labels = numpy.zeros(SEGMENTATION_PADDING, dtype=numpy.float32)\n",
    "    labels = numpy.zeros((SEGMENTATION_PADDING, 4), dtype=numpy.float32)\n",
    "    if len(bboxes):\n",
    "        bboxes = numpy.stack(bboxes)\n",
    "        labels[0:len(bboxes)] = bboxes\n",
    "    img = load_image(row['image_path'])\n",
    "    return img, labels"
   ]
  },
  {
   "cell_type": "code",
   "execution_count": null,
   "metadata": {
    "scrolled": true
   },
   "outputs": [],
   "source": [
    "i = numpy.random.randint(0,len(images_df))\n",
    "print(images_df.loc[i])\n",
    "bbox_count = len(person_annotations_df[person_annotations_df['image_id']==images_df.loc[i]['id']])\n",
    "print('should find', bbox_count, 'boxes')\n",
    "return_image_and_labels(i)"
   ]
  },
  {
   "cell_type": "code",
   "execution_count": null,
   "metadata": {},
   "outputs": [],
   "source": [
    "dataset = tf.data.Dataset.from_tensor_slices(images_df.index)"
   ]
  },
  {
   "cell_type": "code",
   "execution_count": null,
   "metadata": {
    "scrolled": true
   },
   "outputs": [],
   "source": [
    "dataset = dataset.map(lambda item1: tf.numpy_function(return_image_and_labels, [item1], [tf.float32, tf.float32]),\n",
    "                      num_parallel_calls=tf.data.experimental.AUTOTUNE)\n"
   ]
  },
  {
   "cell_type": "code",
   "execution_count": null,
   "metadata": {},
   "outputs": [],
   "source": [
    "global_batch_size=64\n",
    "buffer_size=64\n",
    "# Shuffle and batch\n",
    "dataset = dataset.shuffle(buffer_size).batch(global_batch_size)\n",
    "dataset = dataset.prefetch(buffer_size=16)#tf.data.experimental.AUTOTUNE)"
   ]
  },
  {
   "cell_type": "code",
   "execution_count": null,
   "metadata": {
    "scrolled": true
   },
   "outputs": [],
   "source": [
    "for i, batch in dataset:\n",
    "    print(batch)\n",
    "    break"
   ]
  },
  {
   "cell_type": "code",
   "execution_count": null,
   "metadata": {},
   "outputs": [],
   "source": []
  },
  {
   "cell_type": "code",
   "execution_count": null,
   "metadata": {},
   "outputs": [],
   "source": []
  },
  {
   "cell_type": "code",
   "execution_count": null,
   "metadata": {},
   "outputs": [],
   "source": []
  }
 ],
 "metadata": {
  "kernelspec": {
   "display_name": "Python [conda env:.conda-halte]",
   "language": "python",
   "name": "conda-env-.conda-halte-py"
  },
  "language_info": {
   "codemirror_mode": {
    "name": "ipython",
    "version": 3
   },
   "file_extension": ".py",
   "mimetype": "text/x-python",
   "name": "python",
   "nbconvert_exporter": "python",
   "pygments_lexer": "ipython3",
   "version": "3.7.6"
  }
 },
 "nbformat": 4,
 "nbformat_minor": 2
}
