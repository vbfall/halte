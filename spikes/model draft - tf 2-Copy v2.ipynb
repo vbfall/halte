{
 "cells": [
  {
   "cell_type": "markdown",
   "metadata": {},
   "source": [
    "# Environment setup"
   ]
  },
  {
   "cell_type": "code",
   "execution_count": 1,
   "metadata": {},
   "outputs": [
    {
     "name": "stdout",
     "output_type": "stream",
     "text": [
      "Importing os... done!\n",
      "Importing Image... done!\n",
      "Importing numpy... done!\n",
      "All libraries imported successfully\n"
     ]
    }
   ],
   "source": [
    "print('Importing os... ',end='')\n",
    "import os\n",
    "print('done!')\n",
    "print('Importing Image... ',end='')\n",
    "from PIL import Image\n",
    "print('done!')\n",
    "print('Importing numpy... ',end='')\n",
    "import numpy as np\n",
    "print('done!')\n",
    "# print('Importing random... ',end='')\n",
    "# import random\n",
    "# print('done!')\n",
    "# print('Importing tensorflow... ',end='')\n",
    "# import tensorflow as tf\n",
    "# print('done!')\n",
    "# print('Importing keras... ',end='')\n",
    "# from tensorflow import keras\n",
    "# print('done!')\n",
    "\n",
    "\n",
    "# tf.enable_eager_execution()\n",
    "\n",
    "print('All libraries imported successfully')"
   ]
  },
  {
   "cell_type": "code",
   "execution_count": 2,
   "metadata": {},
   "outputs": [],
   "source": [
    "DATA_PATH = os.path.join('..','data','raw','images')\n",
    "IMAGE_SIZE = [192, 192]\n",
    "# AUTOTUNE = tf.data.experimental.AUTOTUNE\n",
    "RANDOM_SEED = 42\n",
    "TRAIN_SHARE = 0.8"
   ]
  },
  {
   "cell_type": "markdown",
   "metadata": {},
   "source": [
    "# Function definitions"
   ]
  },
  {
   "cell_type": "code",
   "execution_count": null,
   "metadata": {},
   "outputs": [],
   "source": []
  },
  {
   "cell_type": "code",
   "execution_count": null,
   "metadata": {},
   "outputs": [],
   "source": []
  },
  {
   "cell_type": "code",
   "execution_count": null,
   "metadata": {},
   "outputs": [],
   "source": []
  },
  {
   "cell_type": "code",
   "execution_count": null,
   "metadata": {},
   "outputs": [],
   "source": []
  },
  {
   "cell_type": "code",
   "execution_count": 15,
   "metadata": {
    "scrolled": true
   },
   "outputs": [
    {
     "data": {
      "text/plain": [
       "array([[[47, 33,  7],\n",
       "        [46, 32,  6],\n",
       "        [45, 31,  5],\n",
       "        ...,\n",
       "        [77, 73, 44],\n",
       "        [75, 71, 42],\n",
       "        [74, 70, 41]],\n",
       "\n",
       "       [[50, 34,  9],\n",
       "        [50, 34,  9],\n",
       "        [48, 32,  7],\n",
       "        ...,\n",
       "        [78, 74, 45],\n",
       "        [77, 73, 44],\n",
       "        [76, 72, 43]],\n",
       "\n",
       "       [[52, 36, 11],\n",
       "        [52, 36, 11],\n",
       "        [52, 36, 11],\n",
       "        ...,\n",
       "        [80, 76, 47],\n",
       "        [79, 75, 46],\n",
       "        [79, 75, 46]],\n",
       "\n",
       "       ...,\n",
       "\n",
       "       [[61, 72, 38],\n",
       "        [61, 72, 38],\n",
       "        [60, 71, 37],\n",
       "        ...,\n",
       "        [59, 63, 38],\n",
       "        [63, 65, 41],\n",
       "        [68, 70, 46]],\n",
       "\n",
       "       [[63, 74, 40],\n",
       "        [62, 73, 39],\n",
       "        [62, 73, 39],\n",
       "        ...,\n",
       "        [58, 62, 37],\n",
       "        [61, 63, 39],\n",
       "        [65, 67, 43]],\n",
       "\n",
       "       [[64, 75, 41],\n",
       "        [64, 75, 41],\n",
       "        [63, 74, 40],\n",
       "        ...,\n",
       "        [56, 60, 35],\n",
       "        [59, 61, 37],\n",
       "        [63, 65, 41]]], dtype=uint8)"
      ]
     },
     "execution_count": 15,
     "metadata": {},
     "output_type": "execute_result"
    }
   ],
   "source": [
    "test_path = '../data/raw/images/sabre/000000000154.jpg'\n",
    "img_file = Image.open(test_path)\n",
    "img_array = np.array(img_file, dtype='uint8')\n",
    "img_array"
   ]
  },
  {
   "cell_type": "code",
   "execution_count": null,
   "metadata": {},
   "outputs": [],
   "source": []
  },
  {
   "cell_type": "markdown",
   "metadata": {},
   "source": [
    "# Load data"
   ]
  },
  {
   "cell_type": "code",
   "execution_count": 6,
   "metadata": {},
   "outputs": [
    {
     "name": "stdout",
     "output_type": "stream",
     "text": [
      "Looking for images in: ..\\data\\raw\\images :\n",
      "000000000000.jpg\n",
      "000000000001.jpg\n",
      "000000000002.jpg\n",
      "000000000003.jpg\n",
      "000000000004.jpg\n",
      "000000000005.jpg\n",
      "000000000006.jpg\n",
      "000000000007.jpg\n",
      "000000000008.jpg\n",
      "000000000009.jpg\n",
      "000000000010.jpg\n",
      "000000000011.jpg\n",
      "000000000012.jpg\n",
      "000000000013.jpg\n",
      "000000000014.jpg\n",
      "000000000015.jpg\n",
      "000000000016.jpg\n",
      "000000000017.jpg\n",
      "000000000018.jpg\n",
      "000000000019.jpg\n",
      "000000000020.jpg\n",
      "000000000021.jpg\n",
      "000000000022.jpg\n",
      "000000000023.jpg\n",
      "000000000024.jpg\n",
      "000000000025.jpg\n",
      "000000000026.jpg\n",
      "000000000027.jpg\n",
      "000000000028.jpg\n",
      "000000000029.jpg\n",
      "000000000030.jpg\n",
      "000000000031.jpg\n",
      "000000000032.jpg\n",
      "000000000033.jpg\n",
      "000000000034.jpg\n",
      "000000000035.jpg\n",
      "000000000036.jpg\n",
      "000000000037.jpg\n",
      "000000000038.jpg\n",
      "000000000039.jpg\n",
      "000000000040.jpg\n",
      "000000000041.jpg\n",
      "000000000042.jpg\n",
      "000000000043.jpg\n",
      "000000000044.jpg\n",
      "000000000045.jpg\n",
      "000000000046.jpg\n",
      "000000000047.jpg\n",
      "000000000048.jpg\n",
      "000000000049.jpg\n",
      "000000000050.jpg\n",
      "000000000051.jpg\n",
      "000000000052.jpg\n",
      "000000000053.jpg\n",
      "000000000054.jpg\n",
      "000000000055.jpg\n",
      "000000000056.jpg\n",
      "000000000057.jpg\n",
      "000000000058.jpg\n",
      "000000000059.jpg\n",
      "000000000060.jpg\n",
      "000000000061.jpg\n",
      "000000000062.jpg\n",
      "000000000063.jpg\n",
      "000000000064.jpg\n",
      "000000000065.JPG\n",
      "000000000066.jpg\n",
      "000000000067.jpg\n",
      "000000000068.jpg\n",
      "000000000069.jpg\n",
      "000000000070.jpg\n",
      "000000000071.jpg\n",
      "000000000072.jpg\n",
      "000000000073.jpg\n",
      "000000000074.jpg\n",
      "000000000075.jpg\n",
      "000000000076.jpg\n",
      "000000000078.jpg\n",
      "000000000079.jpg\n",
      "000000000080.jpg\n",
      "000000000081.jpg\n",
      "000000000082.jpg\n",
      "000000000083.jpg\n",
      "000000000084.jpg\n",
      "000000000085.jpg\n",
      "000000000086.jpg\n",
      "000000000087.jpg\n",
      "000000000088.jpg\n",
      "000000000089.jpg\n",
      "000000000090.jpg\n",
      "000000000092.jpg\n",
      "000000000093.jpg\n",
      "000000000094.jpg\n",
      "000000000095.jpg\n",
      "000000000096.jpg\n",
      "000000000097.jpg\n",
      "000000000098.jpg\n",
      "000000000099.jpg\n",
      "000000000100.jpg\n",
      "000000000102.jpg\n",
      "000000000103.jpg\n",
      "000000000105.jpg\n",
      "000000000106.jpg\n",
      "000000000107.jpg\n",
      "000000000108.jpg\n",
      "000000000109.jpg\n",
      "000000000110.jpg\n",
      "000000000111.jpg\n",
      "000000000113.jpg\n",
      "000000000114.JPG\n",
      "000000000115.jpg\n",
      "000000000116.jpg\n",
      "000000000117.jpg\n",
      "000000000118.jpg\n",
      "000000000121.jpg\n",
      "000000000122.jpg\n",
      "000000000123.jpg\n",
      "000000000124.jpg\n",
      "000000000125.jpg\n",
      "000000000126.jpg\n",
      "000000000127.jpg\n",
      "000000000128.jpg\n",
      "000000000129.jpg\n",
      "000000000130.jpg\n",
      "000000000131.jpg\n",
      "000000000132.jpg\n",
      "000000000133.jpg\n",
      "000000000134.jpg\n",
      "000000000135.jpg\n",
      "000000000136.jpg\n",
      "000000000137.jpg\n",
      "000000000138.jpg\n",
      "000000000139.jpg\n",
      "000000000140.jpg\n",
      "000000000141.jpg\n",
      "000000000142.jpg\n",
      "000000000143.jpg\n",
      "000000000144.jpg\n",
      "000000000145.jpg\n",
      "000000000146.jpg\n",
      "000000000147.jpg\n",
      "000000000149.jpg\n",
      "000000000150.jpg\n",
      "000000000151.jpg\n",
      "000000000152.jpg\n",
      "000000000153.jpg\n",
      "000000000154.jpg\n",
      "000000000155.jpg\n",
      "000000000156.jpg\n",
      "000000000157.jpg\n",
      "000000000158.jpg\n",
      "000000000159.jpg\n",
      "000000000160.jpg\n",
      "000000000162.jpg\n",
      "000000000163.jpg\n",
      "000000000164.jpg\n",
      "000000000165.jpg\n",
      "000000000167.jpg\n",
      "000000000168.jpg\n",
      "000000000169.jpg\n",
      "000000000170.jpg\n",
      "000000000171.jpg\n",
      "000000000172.jpg\n",
      "000000000173.jpg\n",
      "000000000174.jpg\n",
      "000000000175.jpg\n",
      "000000000176.jpg\n",
      "000000000177.jpg\n",
      "000000000178.jpg\n",
      "000000000179.jpg\n",
      "000000000180.jpg\n",
      "000000000181.jpg\n",
      "000000000182.jpg\n",
      "000000000183.jpg\n",
      "000000000184.jpg\n",
      "000000000185.jpg\n",
      "000000000186.jpg\n",
      "000000000187.jpg\n",
      "000000000188.jpg\n",
      "000000000189.jpg\n",
      "000000000190.jpg\n",
      "000000000191.jpg\n",
      "000000000192.jpg\n",
      "000000000193.jpg\n",
      "000000000194.jpg\n",
      "000000000195.jpg\n",
      "000000000196.jpg\n",
      "000000000197.jpg\n",
      "000000000198.jpg\n",
      "000000000199.jpg\n",
      "000000000200.jpg\n",
      "000000000201.jpg\n",
      "000000000202.jpg\n",
      "000000000203.jpg\n",
      "000000000204.jpg\n",
      "000000000205.jpg\n",
      "000000000206.jpg\n",
      "000000000207.jpg\n",
      "000000000208.jpg\n",
      "000000000209.jpg\n",
      "000000000210.jpg\n",
      "000000000211.jpg\n",
      "000000000212.jpg\n",
      "000000000213.jpg\n",
      "000000000214.jpg\n",
      "000000000215.jpg\n",
      "000000000216.jpg\n",
      "000000000217.jpg\n",
      "000000000218.jpg\n",
      "000000000219.jpg\n",
      "000000000220.jpg\n",
      "000000000221.jpg\n",
      "000000000222.jpg\n",
      "000000000223.jpg\n",
      "000000000224.jpg\n",
      "000000000225.jpg\n",
      "000000000226.jpg\n",
      "000000000227.jpg\n",
      "000000000228.jpg\n",
      "000000000229.jpg\n",
      "000000000230.jpg\n",
      "000000000231.jpg\n",
      "000000000232.jpg\n",
      "000000000233.jpg\n",
      "000000000234.jpg\n",
      "000000000235.jpg\n",
      "000000000236.jpg\n",
      "000000000237.jpg\n",
      "000000000238.jpg\n",
      "000000000239.jpg\n",
      "000000000240.jpg\n",
      "000000000241.jpg\n",
      "000000000242.jpg\n",
      "000000000243.jpg\n",
      "000000000244.jpg\n",
      "000000000245.jpg\n",
      "000000000246.jpg\n",
      "000000000247.jpg\n",
      "000000000248.jpg\n",
      "000000000249.jpg\n",
      "000000000250.jpg\n",
      "000000000251.jpg\n",
      "000000000252.jpg\n",
      "000000000253.jpg\n"
     ]
    }
   ],
   "source": [
    "# Image paths\n",
    "print('Looking for images in:',DATA_PATH,':')\n",
    "raw_data = {}\n",
    "\n",
    "for label in os.listdir(DATA_PATH):\n",
    "    raw_data[label] = []\n",
    "    for file in os.listdir(os.path.join(DATA_PATH,label)):\n",
    "        raw_data[label].append(np.array())\n",
    "\n",
    "# all_image_paths = list(DATA_PATH.glob('*/*'))\n",
    "# all_image_paths = [str(path) for path in all_image_paths]\n",
    "\n",
    "# image_count = len(all_image_paths)\n",
    "# print('found',image_count,'images in path')"
   ]
  },
  {
   "cell_type": "code",
   "execution_count": null,
   "metadata": {},
   "outputs": [],
   "source": [
    "# labels\n",
    "label_names = sorted(item.name for item in data_path.glob('*/') if item.is_dir())\n",
    "print('Labels are: ',end='')\n",
    "for label in label_names:\n",
    "    print(label,',',end=' ')\n",
    "print('')\n",
    "\n",
    "print('Assigning dictionary to labels')\n",
    "label_to_index = dict((name, index) for index,name in enumerate(label_names))\n",
    "label_to_index"
   ]
  },
  {
   "cell_type": "code",
   "execution_count": null,
   "metadata": {},
   "outputs": [],
   "source": [
    "all_image_labels = [label_to_index[pathlib.Path(path).parent.name]\n",
    "                    for path in all_image_paths]\n",
    "\n",
    "print(\"First 10 labels indices: \", all_image_labels[:10])"
   ]
  },
  {
   "cell_type": "markdown",
   "metadata": {},
   "source": [
    "# Create dataset"
   ]
  },
  {
   "cell_type": "code",
   "execution_count": null,
   "metadata": {
    "scrolled": true
   },
   "outputs": [],
   "source": [
    "# a different dataset holds the labels\n",
    "print('Building labels dataset...',end='')\n",
    "label_ds = tf.data.Dataset.from_tensor_slices(tf.cast(all_image_labels, tf.int64))\n",
    "print('done.')\n",
    "\n",
    "# Dataset initially contains only the path strings\n",
    "print('Building image paths dataset...',end='')\n",
    "path_ds = tf.data.Dataset.from_tensor_slices(all_image_paths)\n",
    "print('done.')\n",
    "\n",
    "# Mapping to preprocessing function creates a dataset of the images\n",
    "print('Turning image paths dataset into images dataset...',end='')\n",
    "image_ds = path_ds.map(preprocess_image, num_parallel_calls=AUTOTUNE)\n",
    "print('All images converted')\n",
    "\n",
    "# and then images and labels are combined into one dataset\n",
    "# (remember this can only be done because both are in the same order)\n",
    "print('Combining images and labels datasets...',end='')\n",
    "image_label_ds = tf.data.Dataset.zip((image_ds, label_ds))\n",
    "print('done.')\n"
   ]
  },
  {
   "cell_type": "code",
   "execution_count": null,
   "metadata": {
    "scrolled": true
   },
   "outputs": [],
   "source": [
    "# Dataset split\n",
    "dataset_size = len(all_image_paths)\n",
    "train_size = int(TRAIN_SHARE * dataset_size)\n",
    "\n",
    "train_ds = image_label_ds.take(train_size)\n",
    "test_ds = image_label_ds.skip(train_size)"
   ]
  },
  {
   "cell_type": "code",
   "execution_count": null,
   "metadata": {},
   "outputs": [],
   "source": [
    "train_ds"
   ]
  },
  {
   "cell_type": "markdown",
   "metadata": {},
   "source": [
    "# Model stages"
   ]
  },
  {
   "cell_type": "code",
   "execution_count": null,
   "metadata": {},
   "outputs": [],
   "source": [
    "# Define layers\n",
    "model = keras.Sequential([\n",
    "    keras.layers.Flatten(input_shape=(192,192,3)),\n",
    "    keras.layers.Dense(128, activation='relu'),\n",
    "    keras.layers.Dense(10, activation='softmax')\n",
    "])"
   ]
  },
  {
   "cell_type": "code",
   "execution_count": null,
   "metadata": {},
   "outputs": [],
   "source": [
    "# Define model parameters\n",
    "model.compile(optimizer='adam', \n",
    "              loss='sparse_categorical_crossentropy',\n",
    "              metrics=['accuracy'])"
   ]
  },
  {
   "cell_type": "markdown",
   "metadata": {},
   "source": [
    "# Training"
   ]
  },
  {
   "cell_type": "code",
   "execution_count": null,
   "metadata": {
    "scrolled": true
   },
   "outputs": [],
   "source": [
    "# Training loop\n",
    "model.fit(train_ds, epochs=5)"
   ]
  },
  {
   "cell_type": "markdown",
   "metadata": {},
   "source": [
    "# Evaluation"
   ]
  },
  {
   "cell_type": "code",
   "execution_count": null,
   "metadata": {},
   "outputs": [],
   "source": [
    "# Predict on test dataset"
   ]
  },
  {
   "cell_type": "code",
   "execution_count": null,
   "metadata": {},
   "outputs": [],
   "source": []
  },
  {
   "cell_type": "code",
   "execution_count": null,
   "metadata": {},
   "outputs": [],
   "source": []
  },
  {
   "cell_type": "code",
   "execution_count": null,
   "metadata": {},
   "outputs": [],
   "source": []
  }
 ],
 "metadata": {
  "kernelspec": {
   "display_name": "Python 3",
   "language": "python",
   "name": "python3"
  },
  "language_info": {
   "codemirror_mode": {
    "name": "ipython",
    "version": 3
   },
   "file_extension": ".py",
   "mimetype": "text/x-python",
   "name": "python",
   "nbconvert_exporter": "python",
   "pygments_lexer": "ipython3",
   "version": "3.7.2"
  }
 },
 "nbformat": 4,
 "nbformat_minor": 2
}
